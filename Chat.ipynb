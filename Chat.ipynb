{
 "cells": [
  {
   "cell_type": "markdown",
   "metadata": {},
   "source": [
    "- - - - - - - - - - - - - - - - - - - - - - - - - - - - - - - - - - - - - - - - - - - - -\n",
    "\n",
    "## Text clasification using Ensemble Techniques\n",
    "\n",
    "1. Author - Krishnav Dave \n",
    "\n",
    "- - - - - - - - - - - - - - - - - - - - - - - - - - - - - - - - - - - - - - - - - - - - - -"
   ]
  },
  {
   "cell_type": "code",
   "execution_count": 1,
   "metadata": {},
   "outputs": [
    {
     "name": "stderr",
     "output_type": "stream",
     "text": [
      "/opt/anaconda3/lib/python3.9/site-packages/scipy/__init__.py:146: UserWarning: A NumPy version >=1.16.5 and <1.23.0 is required for this version of SciPy (detected version 1.23.4\n",
      "  warnings.warn(f\"A NumPy version >={np_minversion} and <{np_maxversion}\"\n"
     ]
    }
   ],
   "source": [
    "# Natural Langauge Tool Kit\n",
    "import nltk  # spacy\n",
    "from nltk.stem.lancaster import LancasterStemmer  # Lancaster stemmer\n",
    "stemmer = LancasterStemmer() # Lancaster stemmer\n",
    "\n",
    "# Numeric computation\n",
    "import numpy\n",
    "import random"
   ]
  },
  {
   "cell_type": "code",
   "execution_count": 2,
   "metadata": {},
   "outputs": [
    {
     "name": "stdout",
     "output_type": "stream",
     "text": [
      "{'intents': [{'tag': 'Intro', 'patterns': ['hi', 'how are you', 'is anyone there', 'hello', 'whats up', 'hey', 'yo', 'listen', 'please help me', 'i am learner from', 'i belong to', 'aiml batch', 'aifl batch', 'i am from', 'my pm is', 'blended', 'online', 'i am from', 'hey ya', 'talking to you for first time'], 'responses': ['Hello! how can i help you ?'], 'context_set': ''}, {'tag': 'Exit', 'patterns': ['thank you', 'thanks', 'cya', 'see you', 'later', 'see you later', 'goodbye', 'i am leaving', 'have a Good day', 'you helped me', 'thanks a lot', 'thanks a ton', 'you are the best', 'great help', 'too good', 'you are a good learning buddy'], 'responses': ['I hope I was able to assist you, Good Bye'], 'context_set': ''}, {'tag': 'Olympus', 'patterns': ['olympus', 'explain me how olympus works', 'I am not able to understand olympus', 'olympus window not working', 'no access to olympus', 'unable to see link in olympus', 'no link visible on olympus', 'whom to contact for olympus', 'lot of problem with olympus', 'olypus is not a good tool', 'lot of problems with olympus', 'how to use olympus', 'teach me olympus'], 'responses': ['Link: Olympus wiki'], 'context_set': ''}, {'tag': 'SL', 'patterns': ['i am not able to understand svm', 'explain me how machine learning works', 'i am not able to understand naive bayes', 'i am not able to understand logistic regression', 'i am not able to understand ensemble techb=niques', 'i am not able to understand knn', 'i am not able to understand knn imputer', 'i am not able to understand cross validation', 'i am not able to understand boosting', 'i am not able to understand random forest', 'i am not able to understand ada boosting', 'i am not able to understand gradient boosting', 'machine learning', 'ML', 'SL', 'supervised learning', 'knn', 'logistic regression', 'regression', 'classification', 'naive bayes', 'nb', 'ensemble techniques', 'bagging', 'boosting', 'ada boosting', 'ada', 'gradient boosting', 'hyper parameters'], 'responses': ['Link: Machine Learning wiki '], 'context_set': ''}, {'tag': 'NN', 'patterns': ['what is deep learning', 'unable to understand deep learning', 'explain me how deep learning works', 'i am not able to understand deep learning', 'not able to understand neural nets', 'very diffult to understand neural nets', 'unable to understand neural nets', 'ann', 'artificial intelligence', 'artificial neural networks', 'weights', 'activation function', 'hidden layers', 'softmax', 'sigmoid', 'relu', 'otimizer', 'forward propagation', 'backward propagation', 'epochs', 'epoch', 'what is an epoch', 'adam', 'sgd'], 'responses': ['Link: Neural Nets wiki'], 'context_set': ''}, {'tag': 'Bot', 'patterns': ['what is your name', 'who are you', 'name please', 'when are your hours of opertions', 'what are your working hours', 'hours of operation', 'working hours', 'hours'], 'responses': ['I am your virtual learning assistant'], 'context_set': ''}, {'tag': 'Profane', 'patterns': ['what the hell', 'bloody stupid bot', 'do you think you are very smart', 'screw you', 'i hate you', 'you are stupid', 'jerk', 'you are a joke', 'useless piece of shit'], 'responses': ['Please use respectful words'], 'context_set': ''}, {'tag': 'Ticket', 'patterns': ['my problem is not solved', 'you did not help me', 'not a good solution', 'bad solution', 'not good solution', 'no help', 'wasted my time', 'useless bot', 'create a ticket'], 'responses': ['Tarnsferring the request to your PM'], 'context_set': ''}]}\n"
     ]
    }
   ],
   "source": [
    "# Importing corpus\n",
    "import json\n",
    "\n",
    "# Import corpus file\n",
    "with open('corpus.json') as file:\n",
    "    Corpus = json.load(file)\n",
    "\n",
    "# Display corpus file\n",
    "print(Corpus)"
   ]
  },
  {
   "cell_type": "code",
   "execution_count": 3,
   "metadata": {},
   "outputs": [],
   "source": [
    "# Download \"punkt\" if missing\n",
    "# nltk.download('punkt')\n",
    "\n",
    "# Extract data\n",
    "W = [] # Tokens \n",
    "L = [] # Identified Tags or Labels\n",
    "doc_x = [] # Tokenised words\n",
    "doc_y = [] # Tags or Labels\n",
    "\n",
    "for intent in Corpus['intents']:\n",
    "    for pattern in intent['patterns']:\n",
    "        w_temp = nltk.word_tokenize(pattern)\n",
    "        W.extend(w_temp)\n",
    "        doc_x.append(w_temp)\n",
    "        doc_y.append(intent[\"tag\"])\n",
    "    \n",
    "    # Add the mising tag if any    \n",
    "    if intent['tag'] not in L:\n",
    "        L.append(intent['tag'])"
   ]
  },
  {
   "cell_type": "code",
   "execution_count": 4,
   "metadata": {},
   "outputs": [],
   "source": [
    "# Stemming\n",
    "W = [stemmer.stem(w.lower()) for w in W if w != \"?\"] # Stemming or learning the root word\n",
    "W = sorted(list(set(W))) # Sorted words\n",
    "L = sorted(L) # Sorted list of tags or labels"
   ]
  },
  {
   "cell_type": "code",
   "execution_count": 5,
   "metadata": {},
   "outputs": [
    {
     "data": {
      "text/plain": [
       "['a',\n",
       " 'abl',\n",
       " 'access',\n",
       " 'act',\n",
       " 'ad',\n",
       " 'adam',\n",
       " 'aifl',\n",
       " 'aiml',\n",
       " 'am',\n",
       " 'an',\n",
       " 'anyon',\n",
       " 'ar',\n",
       " 'art',\n",
       " 'backward',\n",
       " 'bad',\n",
       " 'bag',\n",
       " 'batch',\n",
       " 'bay',\n",
       " 'belong',\n",
       " 'best',\n",
       " 'blend',\n",
       " 'bloody',\n",
       " 'boost',\n",
       " 'bot',\n",
       " 'buddy',\n",
       " 'class',\n",
       " 'contact',\n",
       " 'cre',\n",
       " 'cross',\n",
       " 'cya',\n",
       " 'day',\n",
       " 'deep',\n",
       " 'did',\n",
       " 'diffult',\n",
       " 'do',\n",
       " 'ensembl',\n",
       " 'epoch',\n",
       " 'explain',\n",
       " 'first',\n",
       " 'for',\n",
       " 'forest',\n",
       " 'forward',\n",
       " 'from',\n",
       " 'funct',\n",
       " 'good',\n",
       " 'goodby',\n",
       " 'grady',\n",
       " 'gre',\n",
       " 'hat',\n",
       " 'hav',\n",
       " 'hel',\n",
       " 'hello',\n",
       " 'help',\n",
       " 'hey',\n",
       " 'hi',\n",
       " 'hid',\n",
       " 'hour',\n",
       " 'how',\n",
       " 'hyp',\n",
       " 'i',\n",
       " 'imput',\n",
       " 'in',\n",
       " 'intellig',\n",
       " 'is',\n",
       " 'jerk',\n",
       " 'jok',\n",
       " 'knn',\n",
       " 'lat',\n",
       " 'lay',\n",
       " 'learn',\n",
       " 'leav',\n",
       " 'link',\n",
       " 'list',\n",
       " 'log',\n",
       " 'lot',\n",
       " 'machin',\n",
       " 'me',\n",
       " 'ml',\n",
       " 'my',\n",
       " 'naiv',\n",
       " 'nam',\n",
       " 'nb',\n",
       " 'net',\n",
       " 'network',\n",
       " 'neur',\n",
       " 'no',\n",
       " 'not',\n",
       " 'of',\n",
       " 'olymp',\n",
       " 'olyp',\n",
       " 'on',\n",
       " 'onlin',\n",
       " 'op',\n",
       " 'opert',\n",
       " 'otim',\n",
       " 'paramet',\n",
       " 'piec',\n",
       " 'pleas',\n",
       " 'pm',\n",
       " 'problem',\n",
       " 'prop',\n",
       " 'random',\n",
       " 'regress',\n",
       " 'relu',\n",
       " 'screw',\n",
       " 'see',\n",
       " 'sgd',\n",
       " 'shit',\n",
       " 'sigmoid',\n",
       " 'sl',\n",
       " 'smart',\n",
       " 'softmax',\n",
       " 'solv',\n",
       " 'stupid',\n",
       " 'superv',\n",
       " 'svm',\n",
       " 'talk',\n",
       " 'teach',\n",
       " 'techb=niques',\n",
       " 'techn',\n",
       " 'thank',\n",
       " 'the',\n",
       " 'ther',\n",
       " 'think',\n",
       " 'ticket',\n",
       " 'tim',\n",
       " 'to',\n",
       " 'ton',\n",
       " 'too',\n",
       " 'tool',\n",
       " 'un',\n",
       " 'understand',\n",
       " 'up',\n",
       " 'us',\n",
       " 'useless',\n",
       " 'valid',\n",
       " 'very',\n",
       " 'vis',\n",
       " 'wast',\n",
       " 'weight',\n",
       " 'what',\n",
       " 'when',\n",
       " 'who',\n",
       " 'whom',\n",
       " 'window',\n",
       " 'with',\n",
       " 'work',\n",
       " 'ya',\n",
       " 'yo',\n",
       " 'you']"
      ]
     },
     "execution_count": 5,
     "metadata": {},
     "output_type": "execute_result"
    }
   ],
   "source": [
    "# Words\n",
    "W"
   ]
  },
  {
   "cell_type": "code",
   "execution_count": 6,
   "metadata": {},
   "outputs": [
    {
     "data": {
      "text/plain": [
       "['Bot', 'Exit', 'Intro', 'NN', 'Olympus', 'Profane', 'SL', 'Ticket']"
      ]
     },
     "execution_count": 6,
     "metadata": {},
     "output_type": "execute_result"
    }
   ],
   "source": [
    "# Tags\n",
    "L"
   ]
  },
  {
   "cell_type": "code",
   "execution_count": 7,
   "metadata": {},
   "outputs": [],
   "source": [
    "Train = [] # Training data for NN\n",
    "Target = [] # Target data for NN\n",
    "\n",
    "out_empty = [0 for _ in range(len(L))]\n",
    "\n",
    "# Loop to create bag of words and put the frequency count on each word\n",
    "for x, doc in enumerate(doc_x):\n",
    "    bag = []\n",
    "\n",
    "    w_temp = [stemmer.stem(w.lower()) for w in doc]\n",
    "\n",
    "    for w in W:\n",
    "        if w in w_temp:\n",
    "            bag.append(1)\n",
    "        else:\n",
    "            bag.append(0)\n",
    "\n",
    "    output_row = out_empty[:]\n",
    "    output_row[L.index(doc_y[x])] = 1\n",
    "\n",
    "    Train.append(bag) # List\n",
    "    Target.append(output_row) # List"
   ]
  },
  {
   "cell_type": "code",
   "execution_count": 8,
   "metadata": {},
   "outputs": [],
   "source": [
    "# convert training data and output to numpy arrays\n",
    "\n",
    "Train = numpy.array(Train) # List to numpy arrray\n",
    "Target = numpy.array(Target) # List to numpy arrray"
   ]
  },
  {
   "cell_type": "code",
   "execution_count": 11,
   "metadata": {},
   "outputs": [
    {
     "data": {
      "text/plain": [
       "array([[0, 0, 0, 0, 0, 0, 0, 0, 0, 0, 0, 0, 0, 0, 0, 0, 0, 0, 0, 0, 0, 0,\n",
       "        0, 0, 0, 0, 0, 0, 0, 0, 0, 0, 0, 0, 0, 0, 0, 0, 0, 0, 0, 0, 0, 0,\n",
       "        0, 0, 0, 0, 0, 0, 0, 0, 0, 0, 1, 0, 0, 0, 0, 0, 0, 0, 0, 0, 0, 0,\n",
       "        0, 0, 0, 0, 0, 0, 0, 0, 0, 0, 0, 0, 0, 0, 0, 0, 0, 0, 0, 0, 0, 0,\n",
       "        0, 0, 0, 0, 0, 0, 0, 0, 0, 0, 0, 0, 0, 0, 0, 0, 0, 0, 0, 0, 0, 0,\n",
       "        0, 0, 0, 0, 0, 0, 0, 0, 0, 0, 0, 0, 0, 0, 0, 0, 0, 0, 0, 0, 0, 0,\n",
       "        0, 0, 0, 0, 0, 0, 0, 0, 0, 0, 0, 0, 0, 0, 0, 0, 0, 0]])"
      ]
     },
     "execution_count": 11,
     "metadata": {},
     "output_type": "execute_result"
    }
   ],
   "source": [
    "Train[:1]"
   ]
  },
  {
   "cell_type": "code",
   "execution_count": 10,
   "metadata": {},
   "outputs": [],
   "source": [
    "# Test Train Split\n",
    "\n",
    "from sklearn.model_selection import train_test_split\n",
    "X_train_scaled, X_test_scaled, y_train, y_test = train_test_split(Train, Target, test_size=0.25, random_state=10)"
   ]
  },
  {
   "cell_type": "code",
   "execution_count": 12,
   "metadata": {},
   "outputs": [
    {
     "name": "stdout",
     "output_type": "stream",
     "text": [
      "Train Accuracy: 0.2604166666666667\n",
      "Test Accuracy: 0.3125\n"
     ]
    }
   ],
   "source": [
    "# Decision Tree\n",
    "\n",
    "# Library\n",
    "from sklearn.tree import DecisionTreeClassifier\n",
    "from sklearn import metrics\n",
    "from sklearn.metrics import accuracy_score,f1_score,recall_score,precision_score, confusion_matrix\n",
    "\n",
    "# Model\n",
    "model_DT=DecisionTreeClassifier(criterion='entropy',\n",
    "                                splitter='best',\n",
    "                                max_depth=5,\n",
    "                                min_samples_split=2,\n",
    "                                min_samples_leaf=1,\n",
    "                                min_weight_fraction_leaf=0.0,\n",
    "                                max_features=None,\n",
    "                                random_state=None,\n",
    "                                max_leaf_nodes=None,\n",
    "                                min_impurity_decrease=0.0,\n",
    "                                class_weight=None,\n",
    "                                ccp_alpha=0.0,)\n",
    "\n",
    "model_DT.fit(X_train_scaled, y_train)\n",
    "\n",
    "# Accuracy\n",
    "DT_Train=model_DT.score(X_train_scaled, y_train)\n",
    "DT_Test=model_DT.score(X_test_scaled, y_test)\n",
    "\n",
    "# Output\n",
    "print(\"Train Accuracy:\",DT_Train)\n",
    "print(\"Test Accuracy:\",DT_Test)"
   ]
  },
  {
   "cell_type": "code",
   "execution_count": 13,
   "metadata": {},
   "outputs": [
    {
     "name": "stdout",
     "output_type": "stream",
     "text": [
      "Train Accuracy: 1.0\n",
      "Test Accuracy: 0.53125\n"
     ]
    }
   ],
   "source": [
    "# RANDOM FOREST\n",
    "\n",
    "# Library\n",
    "from sklearn.ensemble import RandomForestClassifier\n",
    "from sklearn.metrics import accuracy_score\n",
    "# Model\n",
    "model_RF = RandomForestClassifier(n_estimators=100,\n",
    "                                    criterion='gini',\n",
    "                                    max_depth=None,\n",
    "                                    min_samples_split=2,\n",
    "                                    min_samples_leaf=1,\n",
    "                                    min_weight_fraction_leaf=0.0,\n",
    "                                    max_features='auto',\n",
    "                                    max_leaf_nodes=None,\n",
    "                                    min_impurity_decrease=0.0,\n",
    "                                    bootstrap=True,\n",
    "                                    oob_score=False,\n",
    "                                    n_jobs=None,\n",
    "                                    random_state=None,\n",
    "                                    verbose=0,\n",
    "                                    warm_start=False,\n",
    "                                    class_weight=None,\n",
    "                                    ccp_alpha=0.0,\n",
    "                                    max_samples=None,)\n",
    "model_RF.fit(X_train_scaled, y_train)\n",
    "\n",
    "# Accuracy\n",
    "pred_RF = model_RF.predict(X_test_scaled)\n",
    "RF_Train = model_RF.score(X_train_scaled, y_train)\n",
    "RF_Test = accuracy_score(y_test, pred_RF)\n",
    "\n",
    "# Output\n",
    "print(\"Train Accuracy:\",RF_Train)\n",
    "print(\"Test Accuracy:\",RF_Test)"
   ]
  },
  {
   "cell_type": "code",
   "execution_count": 14,
   "metadata": {},
   "outputs": [],
   "source": [
    "def bag_of_words(s, W):\n",
    "    bag = [0 for _ in range(len(W))]\n",
    "\n",
    "    s_words = nltk.word_tokenize(s)\n",
    "    s_words = [stemmer.stem(word.lower()) for word in s_words]\n",
    "\n",
    "    for se in s_words:\n",
    "        for i, w in enumerate(W):\n",
    "            if w == se:\n",
    "                bag[i] = 1\n",
    "            \n",
    "    return numpy.array(bag)\n",
    "\n",
    "\n",
    "def chat():\n",
    "    print(\"Chat with Ramos (type: stop to quit)\")\n",
    "    print(\"If answer is not right (type: *)\")\n",
    "    while True:\n",
    "        inp = input(\"\\n\\nYou: \")\n",
    "        if inp.lower()==\"*\":\n",
    "            print(\"BOT: Please rephrase your question and try again\")\n",
    "        if inp.lower() == \"quit\":\n",
    "            break\n",
    "\n",
    "        results = model_RF.predict([bag_of_words(inp, W)])\n",
    "        results_index = numpy.argmax(results)\n",
    "        tag = L[results_index]\n",
    "\n",
    "        for tg in Corpus[\"intents\"]:\n",
    "            if tg['tag'] == tag:\n",
    "                responses = tg['responses']\n",
    "\n",
    "        print(random.choice(responses))"
   ]
  },
  {
   "cell_type": "code",
   "execution_count": 15,
   "metadata": {},
   "outputs": [
    {
     "name": "stdout",
     "output_type": "stream",
     "text": [
      "Chat with Ramos (type: stop to quit)\n",
      "If answer is not right (type: *)\n",
      "\n",
      "\n",
      "You: Hello\n",
      "Hello! how can i help you ?\n",
      "\n",
      "\n",
      "You: hey yo\n",
      "Hello! how can i help you ?\n",
      "\n",
      "\n",
      "You: my name is Krishnav\n",
      "I am your virtual learning assistant\n",
      "\n",
      "\n",
      "You: not able to understand neural networks\n",
      "Link: Neural Nets wiki\n",
      "\n",
      "\n",
      "You: you are stupid\n",
      "I am your virtual learning assistant\n",
      "\n",
      "\n",
      "You: jerk\n",
      "Please use respectful words\n",
      "\n",
      "\n",
      "You: *\n",
      "BOT: Please rephrase your question and try again\n",
      "I am your virtual learning assistant\n",
      "\n",
      "\n",
      "You: quit\n"
     ]
    }
   ],
   "source": [
    "chat()"
   ]
  },
  {
   "cell_type": "code",
   "execution_count": null,
   "metadata": {},
   "outputs": [],
   "source": []
  }
 ],
 "metadata": {
  "kernelspec": {
   "display_name": "Python 3 (ipykernel)",
   "language": "python",
   "name": "python3"
  },
  "language_info": {
   "codemirror_mode": {
    "name": "ipython",
    "version": 3
   },
   "file_extension": ".py",
   "mimetype": "text/x-python",
   "name": "python",
   "nbconvert_exporter": "python",
   "pygments_lexer": "ipython3",
   "version": "3.9.12"
  }
 },
 "nbformat": 4,
 "nbformat_minor": 2
}
